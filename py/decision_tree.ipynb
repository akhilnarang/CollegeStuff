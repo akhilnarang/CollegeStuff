{
 "cells": [
  {
   "cell_type": "code",
   "execution_count": 23,
   "metadata": {},
   "outputs": [],
   "source": [
    "import pandas as pd\n",
    "import numpy as np\n",
    "import matplotlib.pyplot as plt"
   ]
  },
  {
   "cell_type": "code",
   "execution_count": 24,
   "metadata": {},
   "outputs": [
    {
     "name": "stdout",
     "output_type": "stream",
     "text": [
      "   Duration           Start date             End date  Start station number  \\\n",
      "0      1012  2010-09-20 11:27:04  2010-09-20 11:43:56                 31208   \n",
      "1        61  2010-09-20 11:41:22  2010-09-20 11:42:23                 31209   \n",
      "2      2690  2010-09-20 12:05:37  2010-09-20 12:50:27                 31600   \n",
      "3      1406  2010-09-20 12:06:05  2010-09-20 12:29:32                 31600   \n",
      "4      1413  2010-09-20 12:10:43  2010-09-20 12:34:17                 31100   \n",
      "\n",
      "                   Start station  End station number  \\\n",
      "0       M St & New Jersey Ave SE               31108   \n",
      "1                 1st & N St  SE               31209   \n",
      "2                  5th & K St NW               31100   \n",
      "3                  5th & K St NW               31602   \n",
      "4  19th St & Pennsylvania Ave NW               31201   \n",
      "\n",
      "                     End station Bike number Member type  \n",
      "0                  4th & M St SW      W00742      Member  \n",
      "1                 1st & N St  SE      W00032      Member  \n",
      "2  19th St & Pennsylvania Ave NW      W00993      Member  \n",
      "3        Park Rd & Holmead Pl NW      W00344      Member  \n",
      "4                 15th & P St NW      W00883      Member  \n",
      "<class 'pandas.core.frame.DataFrame'>\n",
      "RangeIndex: 115597 entries, 0 to 115596\n",
      "Data columns (total 9 columns):\n",
      "Duration                115597 non-null int64\n",
      "Start date              115597 non-null object\n",
      "End date                115597 non-null object\n",
      "Start station number    115597 non-null int64\n",
      "Start station           115597 non-null object\n",
      "End station number      115597 non-null int64\n",
      "End station             115597 non-null object\n",
      "Bike number             115597 non-null object\n",
      "Member type             115597 non-null object\n",
      "dtypes: int64(3), object(6)\n",
      "memory usage: 7.9+ MB\n",
      "None\n",
      "[[ 1012 31208 31108]\n",
      " [   61 31209 31209]\n",
      " [ 2690 31600 31100]\n",
      " ...\n",
      " [  737 31602 31401]\n",
      " [  514 31111 31202]\n",
      " [51962 31111 31111]]\n",
      "['Member' 'Member' 'Member' ... 'Member' 'Member' 'Casual']\n"
     ]
    }
   ],
   "source": [
    "data = pd.read_csv(\"csv/2010-capitalbikeshare-tripdata.csv\")\n",
    "print(data.head())\n",
    "print(data.info())\n",
    "x = data.iloc[:, [0, 3, 5]].values\n",
    "y = data.iloc[:, -1].values\n",
    "print(x)\n",
    "print(y)"
   ]
  },
  {
   "cell_type": "code",
   "execution_count": 25,
   "metadata": {},
   "outputs": [
    {
     "name": "stdout",
     "output_type": "stream",
     "text": [
      "Sample y: [1 1 1 1 1]\n",
      "0 : Casual\n",
      "1 : Member\n"
     ]
    }
   ],
   "source": [
    "# y has Categorical data hence needs Encoding\n",
    "from sklearn.preprocessing import LabelEncoder\n",
    "labelencoder_y =LabelEncoder()\n",
    "y = labelencoder_y.fit_transform(y)\n",
    "print(\"Sample y:\",y[:5])\n",
    "print(\"0 :\",labelencoder_y.classes_[0])\n",
    "print(\"1 :\",labelencoder_y.classes_[1])"
   ]
  },
  {
   "cell_type": "code",
   "execution_count": 26,
   "metadata": {},
   "outputs": [],
   "source": [
    "# Splitting of Data into Training & Testing\n",
    "from sklearn.model_selection import train_test_split\n",
    "x_train, x_test, y_train, y_test = train_test_split(x, y, test_size=0.25,\n",
    "random_state=0)"
   ]
  },
  {
   "cell_type": "code",
   "execution_count": 27,
   "metadata": {},
   "outputs": [
    {
     "data": {
      "text/plain": [
       "DecisionTreeClassifier(ccp_alpha=0.0, class_weight=None, criterion='entropy',\n",
       "                       max_depth=None, max_features=None, max_leaf_nodes=None,\n",
       "                       min_impurity_decrease=0.0, min_impurity_split=None,\n",
       "                       min_samples_leaf=4, min_samples_split=2,\n",
       "                       min_weight_fraction_leaf=0.0, presort='deprecated',\n",
       "                       random_state=0, splitter='best')"
      ]
     },
     "execution_count": 27,
     "metadata": {},
     "output_type": "execute_result"
    }
   ],
   "source": [
    "# Machine: Classifier | Classifier: Decision Tree\n",
    "from sklearn.tree import DecisionTreeClassifier\n",
    "classifier = DecisionTreeClassifier(criterion='entropy',\n",
    "min_samples_leaf=4, random_state=0)\n",
    "classifier.fit(x_train, y_train)"
   ]
  },
  {
   "cell_type": "code",
   "execution_count": 28,
   "metadata": {},
   "outputs": [],
   "source": [
    "# Predicting the Test set results\n",
    "y_pred = classifier.predict(x_test)"
   ]
  },
  {
   "cell_type": "code",
   "execution_count": 29,
   "metadata": {},
   "outputs": [
    {
     "name": "stdout",
     "output_type": "stream",
     "text": [
      "[[ 3368  2721]\n",
      " [ 2641 20170]]\n"
     ]
    }
   ],
   "source": [
    "# Making the Confusion Matrix\n",
    "from sklearn.metrics import confusion_matrix\n",
    "cm = confusion_matrix(y_test, y_pred)\n",
    "print(cm)"
   ]
  }
 ],
 "metadata": {
  "kernelspec": {
   "display_name": "Python 3",
   "language": "python",
   "name": "python3"
  },
  "language_info": {
   "codemirror_mode": {
    "name": "ipython",
    "version": 3
   },
   "file_extension": ".py",
   "mimetype": "text/x-python",
   "name": "python",
   "nbconvert_exporter": "python",
   "pygments_lexer": "ipython3",
   "version": "3.7.5"
  }
 },
 "nbformat": 4,
 "nbformat_minor": 2
}
